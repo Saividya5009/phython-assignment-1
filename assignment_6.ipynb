{
  "nbformat": 4,
  "nbformat_minor": 0,
  "metadata": {
    "colab": {
      "name": "assignment 6.ipynb",
      "provenance": [],
      "authorship_tag": "ABX9TyMtg4k3JuMgGBXQdVTqUXxs",
      "include_colab_link": true
    },
    "kernelspec": {
      "name": "python3",
      "display_name": "Python 3"
    }
  },
  "cells": [
    {
      "cell_type": "markdown",
      "metadata": {
        "id": "view-in-github",
        "colab_type": "text"
      },
      "source": [
        "<a href=\"https://colab.research.google.com/github/Saividya5009/phython-assignment-1/blob/master/assignment_6.ipynb\" target=\"_parent\"><img src=\"https://colab.research.google.com/assets/colab-badge.svg\" alt=\"Open In Colab\"/></a>"
      ]
    },
    {
      "cell_type": "markdown",
      "metadata": {
        "id": "tfhtz3JM-Ezg",
        "colab_type": "text"
      },
      "source": [
        "1.to find squareroot."
      ]
    },
    {
      "cell_type": "code",
      "metadata": {
        "id": "hh0CEiIy-Ik3",
        "colab_type": "code",
        "colab": {
          "base_uri": "https://localhost:8080/",
          "height": 34
        },
        "outputId": "cf95a4de-51d0-44a4-900d-e2a1264efcbb"
      },
      "source": [
        "import math\n",
        "math.sqrt(400)"
      ],
      "execution_count": null,
      "outputs": [
        {
          "output_type": "execute_result",
          "data": {
            "text/plain": [
              "20.0"
            ]
          },
          "metadata": {
            "tags": []
          },
          "execution_count": 1
        }
      ]
    },
    {
      "cell_type": "markdown",
      "metadata": {
        "id": "r3vdTxjJ-U0M",
        "colab_type": "text"
      },
      "source": [
        "2.to check whether number is positive,negetive or 0."
      ]
    },
    {
      "cell_type": "code",
      "metadata": {
        "id": "y7BV2Yqp-gsD",
        "colab_type": "code",
        "colab": {
          "base_uri": "https://localhost:8080/",
          "height": 51
        },
        "outputId": "6e56cc53-316e-4ed2-8472-3305eee0692a"
      },
      "source": [
        "n=int(input(\"enter a number\"))\n",
        "if(n>0):\n",
        "  print(\"the number is positive\")\n",
        "elif(n<0):\n",
        "  print(\"the number is negetive\")\n",
        "else:\n",
        "  print(\"the number is zero\")"
      ],
      "execution_count": null,
      "outputs": [
        {
          "output_type": "stream",
          "text": [
            "enter a number-5\n",
            "the number is negetive\n"
          ],
          "name": "stdout"
        }
      ]
    },
    {
      "cell_type": "markdown",
      "metadata": {
        "id": "V9yIPMZf_M_O",
        "colab_type": "text"
      },
      "source": [
        "3.to check whether leap year is not."
      ]
    },
    {
      "cell_type": "code",
      "metadata": {
        "id": "jMQ7NwkY_abq",
        "colab_type": "code",
        "colab": {
          "base_uri": "https://localhost:8080/",
          "height": 51
        },
        "outputId": "1597407b-5f3a-4872-b219-8add83b8b84b"
      },
      "source": [
        "year=int(input(\"enter the year\"))\n",
        "if(year%4)==0 and (year%100)!=0 or (year%400==0):\n",
        "  print(\"leap year\")\n",
        "else:\n",
        "  print(\"not a leap year\")"
      ],
      "execution_count": 63,
      "outputs": [
        {
          "output_type": "stream",
          "text": [
            "enter the year2000\n",
            "leap year\n"
          ],
          "name": "stdout"
        }
      ]
    },
    {
      "cell_type": "markdown",
      "metadata": {
        "id": "AB8ihIMCEL9u",
        "colab_type": "text"
      },
      "source": [
        "4.print fibbonacci series."
      ]
    },
    {
      "cell_type": "code",
      "metadata": {
        "id": "dC8xC_EMES2K",
        "colab_type": "code",
        "colab": {
          "base_uri": "https://localhost:8080/",
          "height": 170
        },
        "outputId": "2fa33f06-2e6a-4795-c812-7bbc55a0ecdd"
      },
      "source": [
        "N=int(input(\"enter the no of terms\"))\n",
        "n1,n2=0,1\n",
        "count=0\n",
        "if (N<=0):\n",
        "  print(\"enter a positive integer\")\n",
        "elif (N==1):\n",
        "  print(\"fibonacci series\",N)\n",
        "  print(n1)\n",
        "else:\n",
        "  print(\"fibonacci series:\")\n",
        "while(count<N):\n",
        "  print(n1)\n",
        "  nth=n1+n2\n",
        "  n1=n2\n",
        "  n2=nth\n",
        "  count=count+1\n"
      ],
      "execution_count": 22,
      "outputs": [
        {
          "output_type": "stream",
          "text": [
            "enter the no of terms7\n",
            "fibonacci series:\n",
            "0\n",
            "1\n",
            "1\n",
            "2\n",
            "3\n",
            "5\n",
            "8\n"
          ],
          "name": "stdout"
        }
      ]
    },
    {
      "cell_type": "markdown",
      "metadata": {
        "id": "muL-aPFVQcR3",
        "colab_type": "text"
      },
      "source": [
        "5.amstrong number."
      ]
    },
    {
      "cell_type": "code",
      "metadata": {
        "id": "ij4B_51oQoti",
        "colab_type": "code",
        "colab": {
          "base_uri": "https://localhost:8080/",
          "height": 51
        },
        "outputId": "f326c95f-22c9-428d-cdc8-c9cec11f30aa"
      },
      "source": [
        "num=int(input(\"enter the number\"))\n",
        "sum=0\n",
        "temp=num\n",
        "while temp>0:\n",
        "  digit=num%10\n",
        "  sum=sum+digit**3\n",
        "  temp//=10\n",
        "if num==sum:\n",
        "  print(\"the number is amstrong number\")\n",
        "else:\n",
        "  print(\"the number is not amstrong number\")\n"
      ],
      "execution_count": 27,
      "outputs": [
        {
          "output_type": "stream",
          "text": [
            "enter the number555\n",
            "the number is not amstrong number\n"
          ],
          "name": "stdout"
        }
      ]
    },
    {
      "cell_type": "markdown",
      "metadata": {
        "id": "y9N7OPN4TUvS",
        "colab_type": "text"
      },
      "source": [
        "6.in interval amstrong number "
      ]
    },
    {
      "cell_type": "code",
      "metadata": {
        "id": "jEeq8e9BTaho",
        "colab_type": "code",
        "colab": {
          "base_uri": "https://localhost:8080/",
          "height": 119
        },
        "outputId": "5bc6a8a3-64e6-4ea6-aba6-5cb761fdf329"
      },
      "source": [
        "for num in range(100,500):\n",
        "  sum=0\n",
        "  temp=num\n",
        "  while temp>0:\n",
        "      digit=temp%10\n",
        "      sum=sum+digit**3\n",
        "      temp//=10\n",
        "      if sum==num:\n",
        "        print (num)"
      ],
      "execution_count": 57,
      "outputs": [
        {
          "output_type": "stream",
          "text": [
            "125\n",
            "153\n",
            "216\n",
            "370\n",
            "371\n",
            "407\n"
          ],
          "name": "stdout"
        }
      ]
    }
  ]
}